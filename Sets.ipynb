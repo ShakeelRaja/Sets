{
 "cells": [
  {
   "cell_type": "markdown",
   "metadata": {},
   "source": [
    "# Sets and Implementation in Python\n",
    "### Introduction\n",
    "This lesson will provide a brief introduction to \"Sets\" with a primer on how to use Python operations to create and manipulate sets. Further reading links are provided in section 6 of this notebook which highlight the applications of Set theory and Sets in advanced computational systems. \n",
    "\n",
    "### Learning objectives:\n",
    "1. Introduction to Sets and Set notation\n",
    "2. Creating sets in python \n",
    "3. Applying operations on Sets in Python\n",
    "4. Immutable or Frozen sets and their applications\n",
    "5. Significance of Set theory in the fields of Computer Science and Data Science \n",
    "\n",
    "### Pre-Requisites\n",
    "An understanding of Python syntax and familiarity with basic python datatypes including lists, tuples, dictionaries etc.  \n"
   ]
  },
  {
   "cell_type": "markdown",
   "metadata": {},
   "source": [
    "## 1. What is a Set?\n",
    "---\n",
    "The Set Theory is a branch of Mathematics that deals with well defined collections of objects called \"Sets\". Set Theory emerged in the later part of 19th century and soon became a formal mathematical discipline. \n",
    "\n",
    "> **Set** is a basic mathematical entity that represents a well defined collection of objects, called **Elements** of the set. Elements of a set have some common attribute or follow a common rule. \n",
    "\n",
    "### 1.1 Set Notation \n",
    "In order to create a Set, we first specify a common attribute (or a rule) and then gather up all the elements that have this comonality. According to \"Roaster Notation\", elements of a Set are shown as a list inside curly braces, separated by a comma. Capital letters are used to denote sets. Lets see some simple examples of sets: \n",
    "\n",
    "**Example 1:** An example of a very simple Set would be \"A set of whole numbers between 2 and 5 inclusive\". Using set notation mentioned above, we can formally present this Set as **A = {2, 3, 4, 5}**. Here A is the name of the Set containing the elements 2, 3, 4 and 5 (following the given rule). \n",
    "\n",
    "**Example 2:** A Set of all fingers on a hand can be shown as **H = {thumb, index, middle, ring, pinky}**. Here H (used for hand) is a Set containing elements thumb, index, middle, ring and pinky. These elements share a common property i.e. belonging to a hand.\n",
    "\n",
    "Sets can be \"finite\" or \"infinite\". Above examples show finite sets having finite (countable) number of elements. An infinite set can be expressed as \"A set of even numbers\" and formally presented as ** E = {2, 4, 6, 8, ...}.** Puting three dots towards the end of list means that this list goes on forever OR the list is \"infinite\". \n",
    "\n",
    "#### NOTE 1####  \n",
    "\n",
    "It is important to note that while desribing elements within a set, there should not be any ambiguity in the description of elements. This is to ensure that the set remains \"well defined\". For example, to mention *\"A set of top 10 pop singers\"* may cause ambiguity as this description would involve subjective judgement and different individuals will produce different sets according their to their subjective preferences.  \n",
    "\n",
    "On the other hand, describing a set as *\"A set of top 10 pop singers in 2018, according to Rolling Stones\"* removes any ambiguity and would always refer to same set. \n",
    "\n",
    "#### NOTE 2####  \n",
    "\n",
    "In formal set theory *\"Each Element in a set is a unique entity\"*.This means that repetition or order of elements within a Set do not change the nature of that set e.g. following lists describe the same Set A shown above <br>\n",
    "{2, 2, 3, 4, 4, 5} = {5, 4, 3, 2} = {2, 5, 3, 4, 3} \n",
    "\n",
    "### A Formal Definition ###\n",
    "\n",
    "Georg Cantor (1874 - 1918), founder of Set theory described a set as \n",
    "\n",
    ">*\"A set is a gathering together into a whole of definite, distinct objects of our perception and of our thought - which are called elements of the set\"* \n",
    "\n",
    "which, in simple terms means \"a collection of objects\" as we described earlier. \n"
   ]
  },
  {
   "cell_type": "markdown",
   "metadata": {
    "collapsed": true
   },
   "source": [
    "## 2. Sets in Python \n",
    "---\n",
    "Python defines a Set as an *\"un-ordered collection of elements, where each element is unique and immutable\"*<br>\n",
    "\n",
    "\"Immutability\" refers to the property that elements of an object can not be changed after it is created. Sets themselves are mutable and we can add or remove elements even after creating a set. Python uses a datatype called `set` which fulfills the Set properties as forally defined by the Set Theory. Unlike list and tuple datatypes in python, the set datatype does not allow multiple occurances of same element. \n",
    "\n",
    "### 2.1 Creating a Set\n",
    "\n",
    "Sets can be created in python using the Roaster notation mentioned earlier i.e. identifying a Set name and placing all elements inside curly brackets, separated by commas. The built in function `set()` can also be used to achieve the same functionality and allows creation of sets from lists. Lets try creating the sets from our examples. "
   ]
  },
  {
   "cell_type": "code",
   "execution_count": 8,
   "metadata": {},
   "outputs": [
    {
     "name": "stdout",
     "output_type": "stream",
     "text": [
      "Creating sets with Roaster notaion\n",
      "{2, 3, 4, 5}\n",
      "{'ring', 'index', 'thumb', 'middle', 'pinky'}\n",
      "\n",
      "Creating sets using datatype set() with lists\n",
      "{1, 2, 3, 4, 5}\n",
      "{'ring', 'index', 'thumb', 'middle', 'pinky'}\n"
     ]
    }
   ],
   "source": [
    "# Create a set of whole numbers between 2 and 5 inclusive\n",
    "print (\"Creating sets with Roaster notaion\")\n",
    "A = {2, 3, 4, 5}\n",
    "print (A)\n",
    "\n",
    "# Create a set of all fingers on a hand\n",
    "H = {\"thumb\", \"index\", \"middle\", \"ring\", \"pinky\"}\n",
    "print (H)\n",
    "\n",
    "# Creating above sets using the \"set\" datatype\n",
    "\n",
    "print (\"\\nCreating sets using datatype set() with lists\") \n",
    "\n",
    "A2 = set([1, 2, 3, 4, 5])\n",
    "print (A2)\n",
    "H2 = set([\"thumb\", \"index\", \"middle\", \"ring\", \"pinky\"])\n",
    "print(H2)"
   ]
  },
  {
   "cell_type": "markdown",
   "metadata": {},
   "source": [
    "As you can see, both definitions result as exactly the same sets. It is, however, **strongly** advised to use the `set()` datatype while defining an empty set. Using Roaster notation to create empty set would result as creation of a dictionary object `dict`, as shown in the example below:"
   ]
  },
  {
   "cell_type": "code",
   "execution_count": 60,
   "metadata": {},
   "outputs": [
    {
     "name": "stdout",
     "output_type": "stream",
     "text": [
      "E1 Datatype:  <class 'dict'>\n",
      "E2 Datatype:  <class 'set'>\n"
     ]
    }
   ],
   "source": [
    "# Creating empty sets \n",
    "E1 = {} \n",
    "E2 = set()\n",
    "\n",
    "# print the datatypes of E1 and E2\n",
    "print (\"E1 Datatype: \", type(E1)) \n",
    "print (\"E2 Datatype: \", type(E2))"
   ]
  },
  {
   "cell_type": "markdown",
   "metadata": {},
   "source": [
    "A `dict` datatype will be mutable and hence will not demonstrate the expected `set` behaviour. \n",
    "\n",
    "### Element Immutability\n",
    "\n",
    "Another thing to consider while defining sets in python is that elements of a Set can be of any immutable datatypes available in python i.e. `int, float, bool, string, tuple` etc.  Mutable data types like `dict, list, bytearray` and `set` itself can not be elements of a `set` datatype. If we try to define a Set with mutable datatypes as elements, it would cause an error as shown below:"
   ]
  },
  {
   "cell_type": "code",
   "execution_count": 9,
   "metadata": {
    "scrolled": true
   },
   "outputs": [
    {
     "ename": "TypeError",
     "evalue": "unhashable type: 'list'",
     "output_type": "error",
     "traceback": [
      "\u001b[1;31m---------------------------------------------------------------------------\u001b[0m",
      "\u001b[1;31mTypeError\u001b[0m                                 Traceback (most recent call last)",
      "\u001b[1;32m<ipython-input-9-7e64ac329ca6>\u001b[0m in \u001b[0;36m<module>\u001b[1;34m()\u001b[0m\n\u001b[0;32m      1\u001b[0m \u001b[1;31m# Defining a set having elements of mutable datatypes causes an error.\u001b[0m\u001b[1;33m\u001b[0m\u001b[1;33m\u001b[0m\u001b[0m\n\u001b[1;32m----> 2\u001b[1;33m \u001b[0mM\u001b[0m \u001b[1;33m=\u001b[0m \u001b[1;33m{\u001b[0m\u001b[1;36m2\u001b[0m\u001b[1;33m,\u001b[0m \u001b[1;36m4\u001b[0m\u001b[1;33m,\u001b[0m \u001b[1;33m[\u001b[0m\u001b[1;36m6\u001b[0m\u001b[1;33m,\u001b[0m \u001b[1;36m8\u001b[0m\u001b[1;33m]\u001b[0m\u001b[1;33m,\u001b[0m \u001b[1;36m10\u001b[0m\u001b[1;33m}\u001b[0m\u001b[1;33m\u001b[0m\u001b[0m\n\u001b[0m",
      "\u001b[1;31mTypeError\u001b[0m: unhashable type: 'list'"
     ]
    }
   ],
   "source": [
    "# Defining a set having elements of mutable datatypes (a list in this case),  causes an error. \n",
    "M = {2, 4, [6, 8], 10}"
   ]
  },
  {
   "cell_type": "markdown",
   "metadata": {},
   "source": [
    "### 2.2 Modifying a Set\n",
    "Sets themselves are mutable and elements can be added or removed from sets after creating them. For a `set()` datatype, the order of included elements do not contain a meaning and hence can not be used for indexing purpose.\n",
    "\n",
    "We can use `add()` to add a single element or `update()` method to add multiple elements to a set. Please note that the `update()` method can update a set with lists, tuples or even other sets while avoiding duplicate values in the resulting set. \n",
    "\n",
    "In order to remove elements from a set, we can use `remove()` or `discard()` methods. \n",
    "\n",
    "If we want to remove all elements of a set, we use the `clear()` method.  \n",
    "\n",
    "Let's look at a few examples to see these methods in action."
   ]
  },
  {
   "cell_type": "code",
   "execution_count": 31,
   "metadata": {
    "scrolled": true
   },
   "outputs": [
    {
     "ename": "TypeError",
     "evalue": "'set' object does not support indexing",
     "output_type": "error",
     "traceback": [
      "\u001b[1;31m---------------------------------------------------------------------------\u001b[0m",
      "\u001b[1;31mTypeError\u001b[0m                                 Traceback (most recent call last)",
      "\u001b[1;32m<ipython-input-31-b348596fcf67>\u001b[0m in \u001b[0;36m<module>\u001b[1;34m()\u001b[0m\n\u001b[0;32m      2\u001b[0m \u001b[1;33m\u001b[0m\u001b[0m\n\u001b[0;32m      3\u001b[0m \u001b[0mnew_set\u001b[0m \u001b[1;33m=\u001b[0m \u001b[1;33m{\u001b[0m\u001b[1;36m1\u001b[0m\u001b[1;33m,\u001b[0m \u001b[1;36m3\u001b[0m\u001b[1;33m,\u001b[0m \u001b[1;36m5\u001b[0m\u001b[1;33m,\u001b[0m \u001b[1;36m9\u001b[0m\u001b[1;33m}\u001b[0m\u001b[1;33m\u001b[0m\u001b[0m\n\u001b[1;32m----> 4\u001b[1;33m \u001b[0mprint\u001b[0m \u001b[1;33m(\u001b[0m\u001b[0mnew_set\u001b[0m\u001b[1;33m[\u001b[0m\u001b[1;36m0\u001b[0m\u001b[1;33m]\u001b[0m\u001b[1;33m)\u001b[0m\u001b[1;33m\u001b[0m\u001b[0m\n\u001b[0m",
      "\u001b[1;31mTypeError\u001b[0m: 'set' object does not support indexing"
     ]
    }
   ],
   "source": [
    "# As set datatype does not support indexing, attempting to call an element using index number returns an error\n",
    "\n",
    "new_set = {1, 3, 5, 9}\n",
    "print (new_set[0])"
   ]
  },
  {
   "cell_type": "code",
   "execution_count": 59,
   "metadata": {},
   "outputs": [
    {
     "name": "stdout",
     "output_type": "stream",
     "text": [
      "{1, 3, 5, 7, 9}\n"
     ]
    }
   ],
   "source": [
    "# Use add() method to add a SINGLE element to new_set\n",
    "new_set = {1, 3, 5, 9}\n",
    "new_set.add(7)\n",
    "print (new_set)"
   ]
  },
  {
   "cell_type": "code",
   "execution_count": 33,
   "metadata": {},
   "outputs": [
    {
     "name": "stdout",
     "output_type": "stream",
     "text": [
      "{1, 2, 3, 4, 5, 6, 7, 8, 9, 10}\n"
     ]
    }
   ],
   "source": [
    "# Use update() method to add MULTIPLE elements to new_set\n",
    "new_set.update([2, 4, 6, 8, 10])\n",
    "print(new_set)"
   ]
  },
  {
   "cell_type": "code",
   "execution_count": 35,
   "metadata": {},
   "outputs": [
    {
     "name": "stdout",
     "output_type": "stream",
     "text": [
      "{1, 2, 3, 4, 5, 6, 7, 8, 9, 10}\n",
      "{2, 3, 4, 5, 6, 7, 8, 9, 10}\n",
      "{2, 3, 4, 5, 6, 7, 8, 9}\n"
     ]
    }
   ],
   "source": [
    "# Use discard() method to remove an element from my_set \n",
    "print (new_set)\n",
    "new_set.discard(1)\n",
    "print (new_set)\n",
    "\n",
    "#Use remove() method to remove an element from my_set\n",
    "new_set.remove(10)\n",
    "print (new_set)"
   ]
  },
  {
   "cell_type": "code",
   "execution_count": 36,
   "metadata": {},
   "outputs": [
    {
     "name": "stdout",
     "output_type": "stream",
     "text": [
      "{2, 3, 4, 5, 6, 7, 8, 9}\n",
      "set()\n"
     ]
    }
   ],
   "source": [
    "# Remove all elements of my set using clear() method. This would result as an empty set.\n",
    "print(new_set)\n",
    "new_set.clear()\n",
    "print (new_set)"
   ]
  },
  {
   "attachments": {},
   "cell_type": "markdown",
   "metadata": {},
   "source": [
    "## 3. Set Operations in Python \n",
    "---\n",
    "\n",
    "Although one set by itself may not be that interesting, there is a lot that you can do when you have two or more sets. If we have two sets: <br> A = {1, 2, 3, 4, 5, 6} and B = {4, 5, 6, 7, 8, 9}  <br> \n",
    "we can use A and B to learn about the data elements that are contained within the sets alongwith their their relationships. Python allows mathematical set operations like union, intersection, difference and symmetric difference. There are also a number of operations that are boolean in nature and return a \"True\" or a \"False\" value based on give condition as we shall shortly see. \n",
    "\n",
    "\n",
    "### 3.1 Set Union\n",
    "\n",
    "<img src=\"https://cdn.programiz.com/sites/tutorial2program/files/set-union.jpg\" width=\"40%\">\n",
    "\n",
    "\n",
    "\n",
    "The union of A and B refers to the set that contains all elements in A and B, effectively 'joining' them. A union B (Mathematically shown as A ∪ B) would create a set  of all elements in both sets. Union is performed with  `|` operator or `union()` method in python. Let's see a few examples ofthis.\n",
    "\n",
    "**Note: ** Elements that are shared by both sets are not mentioned twice. \n"
   ]
  },
  {
   "cell_type": "code",
   "execution_count": 40,
   "metadata": {},
   "outputs": [
    {
     "name": "stdout",
     "output_type": "stream",
     "text": [
      "{1, 2, 3, 4, 5, 6, 7, 8, 9}\n",
      "{1, 2, 3, 4, 5, 6, 7, 8, 9}\n"
     ]
    }
   ],
   "source": [
    "# Perform A union B \n",
    "\n",
    "A = {1, 2, 3, 4, 5, 6} \n",
    "B = {4, 5, 6, 7, 8, 9} \n",
    "\n",
    "# Use the \"|\" operator\n",
    "C = A | B\n",
    "print (C)\n",
    "\n",
    "# Use the union() method\n",
    "D = A.union(B)\n",
    "print (D)"
   ]
  },
  {
   "cell_type": "markdown",
   "metadata": {},
   "source": [
    "### 3.2 Set Intersection\n",
    "<img src=\"https://cdn.programiz.com/sites/tutorial2program/files/set-intersection.jpg\" width=\"40%\">.\n",
    "\n",
    "The intersection of two sets A and B is simply the elements that they share. Intersection is performed in python using `&` operator or by using the `intersection()` method. Here's how you would go about that in Python."
   ]
  },
  {
   "cell_type": "code",
   "execution_count": 43,
   "metadata": {},
   "outputs": [
    {
     "name": "stdout",
     "output_type": "stream",
     "text": [
      "{4, 5, 6}\n",
      "{4, 5, 6}\n"
     ]
    }
   ],
   "source": [
    "# Perform A intersection B \n",
    "\n",
    "A = {1, 2, 3, 4, 5, 6} \n",
    "B = {4, 5, 6, 7, 8, 9} \n",
    "\n",
    "# Use the \"&\" operator\n",
    "C = A & B\n",
    "print (C)\n",
    "\n",
    "# Use the intersection() method\n",
    "D = A.intersection(B)\n",
    "print (D)"
   ]
  },
  {
   "cell_type": "markdown",
   "metadata": {},
   "source": [
    "As you can see, the two operations fundamentally share the same code, only the operands/methods are different. \n",
    "\n",
    "**NOTE: ** According to the Commutative Law, union and intersection of two sets results as same set, regardless of the order of these sets in the equation.  So **A UNION B = B UNION A**, and **A INTERSECTION B = B INTERSECTION A**. Try this out for yourself in above examples to confirm this property. "
   ]
  },
  {
   "cell_type": "markdown",
   "metadata": {},
   "source": [
    "### 3.3 Set Difference\n",
    "<img src=\"https://cdn.programiz.com/sites/tutorial2program/files/set-difference.jpg\" width=\"40%\">\n",
    "\n",
    "Difference of two sets A and B i.e. **A - B** is a set of elements present in A but not in B. Similarly, **B - A** would result as a set of elements present in B but not in A. In Python, set difference is calculated using the `-` operator or with the `difference()` method, as shown below."
   ]
  },
  {
   "cell_type": "code",
   "execution_count": 44,
   "metadata": {},
   "outputs": [
    {
     "name": "stdout",
     "output_type": "stream",
     "text": [
      "{1, 2, 3}\n",
      "{1, 2, 3}\n"
     ]
    }
   ],
   "source": [
    "# Perform set difference (A - B) \n",
    "\n",
    "A = {1, 2, 3, 4, 5, 6} \n",
    "B = {4, 5, 6, 7, 8, 9} \n",
    "\n",
    "# Use the \"-\" operator\n",
    "C = A - B\n",
    "print (C)\n",
    "\n",
    "# Use the difference() method\n",
    "D = A.difference(B)\n",
    "print (D)"
   ]
  },
  {
   "cell_type": "code",
   "execution_count": 45,
   "metadata": {},
   "outputs": [
    {
     "name": "stdout",
     "output_type": "stream",
     "text": [
      "{8, 9, 7}\n",
      "{8, 9, 7}\n"
     ]
    }
   ],
   "source": [
    "# Perform set difference B - A using above approaches\n",
    "\n",
    "C = B - A\n",
    "print (C)\n",
    "D = B.difference(A)\n",
    "print (D)"
   ]
  },
  {
   "cell_type": "markdown",
   "metadata": {},
   "source": [
    "**NOTE: ** As seen above, unlike UNION and INTERSECTION, DIFFERENCE ( or subtraction) is not a commmutative operation so ** A - B != B - A**. \n",
    "\n",
    "### 3.4 Symmetric Difference\n",
    "\n",
    "<img src=\"https://cdn.programiz.com/sites/tutorial2program/files/set-symmetric-difference.jpg\" width=\"40%\">\n",
    "\n",
    "Symmetric Difference of two sets A and B is a set that contains elements of A and B which are not common among both. This makes it somewhat similar to `XOR` logical operation. Another way to understand the Symmetric difference operation is that it performs a **\"UNION without INTERSECTION\"**. In Python, Symmetric Difference is performed using the `^` operator, or by using `symmetric_difference()` method. Lets look at an example to see this in action using sets from previous examples."
   ]
  },
  {
   "cell_type": "code",
   "execution_count": 48,
   "metadata": {},
   "outputs": [
    {
     "name": "stdout",
     "output_type": "stream",
     "text": [
      "{1, 2, 3, 7, 8, 9}\n",
      "{1, 2, 3, 7, 8, 9}\n",
      "{1, 2, 3, 7, 8, 9}\n"
     ]
    }
   ],
   "source": [
    "# Perform symmetric difference between two sets\n",
    "\n",
    "A = {1, 2, 3, 4, 5, 6} \n",
    "B = {4, 5, 6, 7, 8, 9} \n",
    "\n",
    "# Use the \"^\" operator\n",
    "print (A^B)\n",
    "\n",
    "\n",
    "# Use the symmetric_difference method\n",
    "print (A.symmetric_difference(B))\n",
    "print (B.symmetric_difference(A))\n"
   ]
  },
  {
   "cell_type": "markdown",
   "metadata": {},
   "source": [
    "We can see that Symmetric Difference, just like Union and Intersection has the commutative property so <br>** A ^ B = B ^ A**  \n",
    "\n",
    "### 3.5 Disjoint sets\n",
    "\n",
    "You'll often come across sets that have nothing in common, and such sets are called 'disjoint'. Python has a boolean function called `isdisjoint()` that easily lets you check for this, as can be seen below."
   ]
  },
  {
   "cell_type": "code",
   "execution_count": 49,
   "metadata": {},
   "outputs": [
    {
     "name": "stdout",
     "output_type": "stream",
     "text": [
      "False\n",
      "True\n"
     ]
    }
   ],
   "source": [
    "A = {1, 2, 3, 4}\n",
    "B = {3, 4, 5, 6}\n",
    "C = {7, 8, 9, 10}\n",
    "print (A.isdisjoint(B))\n",
    "print (A.isdisjoint(C))"
   ]
  },
  {
   "cell_type": "markdown",
   "metadata": {},
   "source": [
    "Since A and B share some elements, they are not disjoint and the function returns a \"false\" value. However with a different set C, there is nothing in common and A and C are disjoint which returns a \"True\" value.\n",
    "\n",
    "### 3.6 Set Membership \n",
    "\n",
    "In order to check for the presence or absence of certain elements within a set, we can use the keyword `\"in\"` or `\"not in\"`. Like the previous example, this a boolean operator and returns a \"True\" or \"False\" value based on element membership. Here is a quick example to demosntrate this functionality.  "
   ]
  },
  {
   "cell_type": "code",
   "execution_count": 54,
   "metadata": {
    "scrolled": true
   },
   "outputs": [
    {
     "name": "stdout",
     "output_type": "stream",
     "text": [
      "Check for presence\n",
      "True\n",
      "False\n",
      "\n",
      "Check for absence\n",
      "False\n",
      "True\n"
     ]
    }
   ],
   "source": [
    "# Define a set and check the presence or absence of elements within the set \n",
    "\n",
    "H = {\"thumb\", \"index\", \"middle\", \"ring\", \"pinky\"}\n",
    "\n",
    "# check for the presence of elements in this set H\n",
    "print (\"Check for presence\")\n",
    "print (\"ring\" in H)\n",
    "print (\"eye\" in H)\n",
    "\n",
    "# check for the absence of a elements within the set\n",
    "print (\"\\nCheck for absence\")\n",
    "print (\"index\" not in H )\n",
    "print (\"nose\" not in H)"
   ]
  },
  {
   "cell_type": "markdown",
   "metadata": {},
   "source": [
    "## 4. Frozen sets in Python\n",
    "---\n",
    "A \"Frozen Set\" is an immutable version of Python `set` datatype and is defined using the method `frozenset()`. As we saw in our examples before, we can easily add or remove elements of a `set` datatype in Python because it remains mutable. In contrast, elements of a frozen set remain the same after creation and can not be changed in any way. This allows frozen sets to be used for keys in `dict` datatypes and makes these sets \"hashable\" i.e. a frozen set has a hash value which does not change during its lifetime. \n",
    "\n",
    ">Hashing is a concept in computing used to create high performance data structures where large amount of data is to be stored and accessed quickly. Immutability allows Hashability.  \n",
    "\n",
    "`frozenset()` method takes in a single iterable parameter for initialization which can be a set, dictionary, tuple etc. Lets see a few examples of forzen sets and their behaviour in Python. In case of a dictionary, it only takes the keys of the dictionary to create a new set\n"
   ]
  },
  {
   "cell_type": "code",
   "execution_count": 65,
   "metadata": {
    "scrolled": true
   },
   "outputs": [
    {
     "name": "stdout",
     "output_type": "stream",
     "text": [
      "New frozen set:  frozenset({'a', 'o', 'i', 'u', 'e'})\n"
     ]
    }
   ],
   "source": [
    "# Initialize a frozen set with a list (using tuples will result the same set)\n",
    "\n",
    "V = [\"a\", \"e\", \"i\", \"o\", \"u\"] # a list of vowels \n",
    "\n",
    "# create a frozen set from the list of vowels\n",
    "FV = frozenset(V) \n",
    "print (\"New frozen set: \" , FV)"
   ]
  },
  {
   "cell_type": "code",
   "execution_count": 64,
   "metadata": {},
   "outputs": [
    {
     "name": "stdout",
     "output_type": "stream",
     "text": [
      "New frozen set:  frozenset({'genre', 'sex', 'location', 'name'})\n"
     ]
    }
   ],
   "source": [
    "# Create a frozen set from a dictionary\n",
    "\n",
    "# Initialize a dictionary with key value pairs\n",
    "artist = {\"name\": \"Madonna\", \"sex\": \"Female\", \"genre\":\"POP\", \"location\": \"USA\"} \n",
    "\n",
    "# Create a frozen set from dictionary above. \n",
    "# this will only take in the key values: name, sex, genre, location to create new sets\n",
    "\n",
    "FArtist = frozenset(artist)\n",
    "print (\"New frozen set: \", FArtist)"
   ]
  },
  {
   "cell_type": "markdown",
   "metadata": {},
   "source": [
    "## 5. Why do I need to know about sets?\n",
    "---\n",
    "\n",
    "At this point, you may be wondering why do you need to know sets and operations that are performed on sets. As seen in the examples above, they may appear very simple and at time, utterly pointless. Sets are a fundamental property of Mathematics and provide foundations for creating other complex data structures.  Here are some examples of the use of Set Theory and relevant Mathematics that are central to the Computer Science and Data Science domains. The further reading section provides links to resources which will allow you to dig deeper into the applications of Set theory in modern computing practices. \n",
    "\n",
    "1. Data structures (lists, arrays, dictionaries, linked lists etc.) used by programming languagues can be seen as implementation of sets offering computationally efficient calculations of set operations.\n",
    "\n",
    "2. In the Database theory, the idea of strcutured data presented as a relational database is an abstraction for identifying relations over sets having multidimensional elements. So in essence, relational databases store, retrieve and communicate data as sets.(Think SQL for communicating with relation databases)\n",
    "\n",
    "3. Algorithm complexity, using the Big-O notation describe how different computational models process a \"set\" of information. The Big-O notation is widely used in Big Data analytics to measure, compare and classify different algorithms based on the computational cost they incur.  \n",
    "\n",
    "4. In logic and formal language theory, a formal language can be described as a Set of strings with defined operations. These include spoken languages, computer languages and formal logic (propositional logic, 1st/2nd order logic etc.). Algorithms used to study inferencing in formal languages can be seen as setting constraints upon these sets which define the semantics of a language. (Think Natural Language Processing) \n",
    "\n",
    "5. Many Machine Learning and data mining algorithms use a formal approximation of Set Theory called a \"Rough Set Theory\" to identify novel and more efficient ways of data analysis. \n",
    "\n",
    "Other examples include theory of automata, Turing Machines, Language compilers where Set Theory and Sets provide a foundation for developing complex computational machines. \n",
    "\n",
    "\n"
   ]
  },
  {
   "cell_type": "markdown",
   "metadata": {},
   "source": [
    "## 6. Further Reading\n",
    "---\n",
    "\n",
    "Python Set (with examples)<br>\n",
    "https://www.programiz.com/python-programming/set\n",
    "\n",
    "Python Set Object API<br>\n",
    "https://docs.python.org/3/c-api/set.html\n",
    "\n",
    "Set Theory for Computer Science<br>\n",
    "https://www.cl.cam.ac.uk/~gw104/STfCS2010.pdf\n",
    "\n",
    "Real life applications Set Theory<br>\n",
    "https://www.quora.com/What-are-some-real-life-applications-of-set-theory\n",
    "\n",
    "Set Theory: the Method To Database Madness (Vaidehi Joshi)<br>\n",
    "https://medium.com/basecs/set-theory-the-method-to-database-madness-5ec4b4f05d79\n",
    "\n",
    "Rough Set Theory and Applications<br>\n",
    "https://pdfs.semanticscholar.org/19ba/18c8905df184d20c50bd52a801f7d0e66f5d.pdf\n",
    "\n",
    "The Big-O notation<br>\n",
    "http://web.mit.edu/16.070/www/lecture/big_o.pdf\n"
   ]
  }
 ],
 "metadata": {
  "kernelspec": {
   "display_name": "Python 3",
   "language": "python",
   "name": "python3"
  },
  "language_info": {
   "codemirror_mode": {
    "name": "ipython",
    "version": 3
   },
   "file_extension": ".py",
   "mimetype": "text/x-python",
   "name": "python",
   "nbconvert_exporter": "python",
   "pygments_lexer": "ipython3",
   "version": "3.6.3"
  }
 },
 "nbformat": 4,
 "nbformat_minor": 2
}
